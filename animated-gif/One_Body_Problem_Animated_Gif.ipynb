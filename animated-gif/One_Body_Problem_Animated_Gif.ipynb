{
 "cells": [
  {
   "cell_type": "code",
   "execution_count": 1,
   "metadata": {
    "collapsed": false
   },
   "outputs": [
    {
     "name": "stderr",
     "output_type": "stream",
     "text": [
      "/Users/Olivier/anaconda/lib/python2.7/site-packages/matplotlib/__init__.py:872: UserWarning: axes.color_cycle is deprecated and replaced with axes.prop_cycle; please use the latter.\n",
      "  warnings.warn(self.msg_depr % (key, alt_key))\n"
     ]
    }
   ],
   "source": [
    "%matplotlib inline\n",
    "\n",
    "import os, sys, glob, uuid\n",
    "import numpy as np\n",
    "import matplotlib.pyplot as pl\n",
    "\n",
    "from scipy.integrate import ode\n",
    "from IPython.display import Image, display\n"
   ]
  },
  {
   "cell_type": "markdown",
   "metadata": {},
   "source": [
    "## One-body problem computed and displayed as animated .gif"
   ]
  },
  {
   "cell_type": "code",
   "execution_count": 2,
   "metadata": {
    "collapsed": false
   },
   "outputs": [
    {
     "name": "stdout",
     "output_type": "stream",
     "text": [
      "Creating images...\n",
      "215 / 215CPU times: user 18.6 s, sys: 172 ms, total: 18.8 s\n",
      "Wall time: 18.8 s\n"
     ]
    }
   ],
   "source": [
    "%%time\n",
    "\n",
    "# Compute RHS of ODE\n",
    "def f(t,Y):\n",
    "    x, y, vx, vy = Y # define individual values\n",
    "    d3 = (x**2 + y**2)**1.5 # ||x||^3\n",
    "    M = 0.5\n",
    "    return np.array([vx,vy, -M*x/d3, -M*y/d3])\n",
    "\n",
    "# init params\n",
    "t0 = 0 # initial start time\n",
    "tfinal = .43 # final start time\n",
    "dt = .002 # time step to solution (dopri5 algorithm uses adaptive)\n",
    "y0 = np.array([.25, 0.0, 0.0, .45]) # initial position and velocity (x, y, vx, vy)\n",
    "\n",
    "# init integrator object\n",
    "test = ode(f).set_integrator('dopri5', atol=1e-6) # prescribe tolerance for adaptive time step\n",
    "test.set_initial_value(y0, t0) # set initial time and initial value\n",
    "\n",
    "# init matplotlib\n",
    "fig = pl.figure(figsize=(12, 6))\n",
    "ax = fig.add_subplot(111)\n",
    "\n",
    "# init frames\n",
    "img_folder = 'img'\n",
    "img_fn = []\n",
    "img_radical = '_img'\n",
    "img_no = []\n",
    "img_count = 0\n",
    "if not os.path.exists(img_folder):\n",
    "    os.makedirs(img_folder)\n",
    "else:\n",
    "    for f in os.listdir(img_folder):\n",
    "        os.remove(os.path.join(img_folder, f))\n",
    "    \n",
    "print 'Creating images...'\n",
    "while test.successful() and test.t < tfinal:\n",
    "    # integrate\n",
    "    test.integrate(test.t+dt)\n",
    "\n",
    "    # plot position\n",
    "    ax.cla()\n",
    "    ax.plot(test.y[0], test.y[1], 'b.', markersize=9)\n",
    "    ax.plot(0, 0, 'oy', markersize=15)\n",
    "    ax.set_xlim([-0.1, 0.3])\n",
    "    ax.set_ylim([-0.15, 0.15])\n",
    "    ax.set_title('One-body orbit t=%2.3f' % (test.t))\n",
    "\n",
    "    # save image\n",
    "    img_fn.append(os.path.join('img', img_radical+'%03d'%img_count+'.png'))\n",
    "    img_no.append(img_count)\n",
    "    img_count += 1\n",
    "    \n",
    "    if img_count%5==0:\n",
    "        sys.stdout.write('\\r')\n",
    "        sys.stdout.write('%i / %i' %(img_count, tfinal/dt))\n",
    "        sys.stdout.flush()\n",
    "    \n",
    "    fig.savefig(img_fn[-1]);\n",
    "\n",
    "pl.close(fig);"
   ]
  },
  {
   "cell_type": "code",
   "execution_count": 3,
   "metadata": {
    "collapsed": false
   },
   "outputs": [
    {
     "name": "stdout",
     "output_type": "stream",
     "text": [
      "\n",
      "Convert png files to animated gif...\n",
      "convert -delay 4 -loop 0 img/*.png orbit1947e978-51ad-4ff6-b983-754f42584df1.gif\n"
     ]
    },
    {
     "data": {
      "text/html": [
       "<img src=\"orbit1947e978-51ad-4ff6-b983-754f42584df1.gif\"/>"
      ],
      "text/plain": [
       "<IPython.core.display.Image object>"
      ]
     },
     "metadata": {},
     "output_type": "display_data"
    },
    {
     "name": "stdout",
     "output_type": "stream",
     "text": [
      "CPU times: user 2.17 ms, sys: 841 µs, total: 3.01 ms\n",
      "Wall time: 5.87 s\n"
     ]
    }
   ],
   "source": [
    "%%time\n",
    "\n",
    "# convert images to animated gif\n",
    "print '\\nConvert png files to animated gif...'\n",
    "\n",
    "def make_gif(folder, output, delay=100, repeat=True):\n",
    "    \"\"\"Uses imagemagick/convert to produce an animated .gif from a list of picture files\"\"\"\n",
    "    loop = -1 if repeat else 0\n",
    "    input_files = folder+'/*.png'\n",
    "    print 'convert -delay {} -loop {} {} {}'.format(delay, loop, input_files, output)\n",
    "    os.system('convert -delay {} -loop {} {} {}'.format(delay, loop, input_files, output))\n",
    "    \n",
    "for f in glob.glob('orbit*.gif'):\n",
    "    os.remove(f)\n",
    "img_id = uuid.uuid4()\n",
    "make_gif(img_folder, 'orbit%s.gif' % img_id, delay=4, repeat=False)\n",
    "\n",
    "# display animated gif\n",
    "display(Image(url='orbit%s.gif' % img_id))"
   ]
  },
  {
   "cell_type": "code",
   "execution_count": null,
   "metadata": {
    "collapsed": false
   },
   "outputs": [],
   "source": []
  }
 ],
 "metadata": {
  "kernelspec": {
   "display_name": "Python 2",
   "language": "python",
   "name": "python2"
  },
  "language_info": {
   "codemirror_mode": {
    "name": "ipython",
    "version": 2
   },
   "file_extension": ".py",
   "mimetype": "text/x-python",
   "name": "python",
   "nbconvert_exporter": "python",
   "pygments_lexer": "ipython2",
   "version": "2.7.11"
  }
 },
 "nbformat": 4,
 "nbformat_minor": 0
}

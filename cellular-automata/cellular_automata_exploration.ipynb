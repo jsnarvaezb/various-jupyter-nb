{
 "cells": [
  {
   "cell_type": "code",
   "execution_count": 1,
   "metadata": {
    "collapsed": false,
    "scrolled": false
   },
   "outputs": [],
   "source": [
    "%matplotlib inline\n",
    "\n",
    "import os\n",
    "import numpy as np\n",
    "import pandas as pd\n",
    "import random as rd\n",
    "import matplotlib.pyplot as pl\n"
   ]
  },
  {
   "cell_type": "code",
   "execution_count": 2,
   "metadata": {
    "collapsed": true
   },
   "outputs": [],
   "source": [
    "class Cellular_Automaton:\n",
    "    def __init__(self, nb_cells=1, dim=3, init='center'):\n",
    "        self.nb_cells = nb_cells\n",
    "        self.dim = dim\n",
    "        \n",
    "        if init == 'center':\n",
    "            self.cells = [0] * self.nb_cells\n",
    "            self.cells[self.nb_cells//2] = 1\n",
    "        elif init == 'random':\n",
    "            self.cells = [rd.randint(0, 1) for i in range(self.nb_cells)]\n",
    "        else:\n",
    "            self.cells = list(init)\n",
    "            assert len(self.cells) == self.nb_cells, 'Wrong init'\n",
    "    \n",
    "    def id_to_rule(self, rule_id, dim):\n",
    "        fmt = '{:0%sb}' % str(2**dim)\n",
    "        rule = fmt.format(rule_id)\n",
    "        rule = map(int, list(rule))\n",
    "        return rule[::-1]\n",
    "    \n",
    "    def state_to_nb(self, state):\n",
    "        nb = int(''.join(map(str, state)), base=2)\n",
    "        return nb\n",
    "    \n",
    "    def rolling_window(self, li, wsize):\n",
    "        s = wsize//2\n",
    "        ext_li = li[-s:]+li+li[:s]\n",
    "        res = []\n",
    "        for i in range(len(li)):\n",
    "            res.append(ext_li[i:i+wsize])\n",
    "        return res\n",
    "\n",
    "    def apply_rule(self, rule):\n",
    "        assert len(rule) == 2**self.dim\n",
    "        self.cells = [rule[self.state_to_nb(w)] for w in self.rolling_window(self.cells, self.dim)]\n",
    "        return self\n",
    "    \n",
    "    def show_rule(self, rule_id):\n",
    "        rule = self.id_to_rule(rule_id, self.dim)\n",
    "        fmt = '{:0%sb}' % str(self.dim)\n",
    "        res = []\n",
    "        for i in range(2**self.dim):\n",
    "            res.append([fmt.format(i), rule[i]])\n",
    "        df_rule = pd.DataFrame(res,columns=['input', 'output'])\n",
    "        return df_rule\n",
    "    \n",
    "    def iterate(self, rule_id, nb_iter=None):\n",
    "        if nb_iter is None:\n",
    "            nb_iter = self.nb_cells//2\n",
    "        \n",
    "        rule = self.id_to_rule(rule_id, self.dim)\n",
    "        states = [self.cells] + [self.apply_rule(rule).cells for i in range(nb_iter)]\n",
    "        states = np.array(states)[::]\n",
    "        return states\n",
    "    \n",
    "    def plot(self, rule_id, nb_iter=None, ax=None):\n",
    "        \n",
    "        states = self.iterate(rule_id, nb_iter=nb_iter)\n",
    "        states = states[::-1]\n",
    "        nb_iter = states.shape[0]\n",
    "        \n",
    "        if ax is None:\n",
    "            fig, ax = pl.subplots(figsize=(15,15))\n",
    "        \n",
    "        ax.pcolormesh(states, cmap=\"Greys\")\n",
    "        ax.set_xlim(0, self.nb_cells)\n",
    "        ax.set_ylim(0, nb_iter+1)\n",
    "        ax.set_title('Rule %i' % rule_id, fontsize=15)\n",
    "        ax.set_axis_off()\n",
    "        ax.set_aspect(\"equal\")\n",
    "\n",
    "        return ax\n",
    "    "
   ]
  },
  {
   "cell_type": "code",
   "execution_count": 3,
   "metadata": {
    "collapsed": false
   },
   "outputs": [
    {
     "data": {
      "text/html": [
       "<div>\n",
       "<table border=\"1\" class=\"dataframe\">\n",
       "  <thead>\n",
       "    <tr style=\"text-align: right;\">\n",
       "      <th></th>\n",
       "      <th>input</th>\n",
       "      <th>output</th>\n",
       "    </tr>\n",
       "  </thead>\n",
       "  <tbody>\n",
       "    <tr>\n",
       "      <th>0</th>\n",
       "      <td>000</td>\n",
       "      <td>0</td>\n",
       "    </tr>\n",
       "    <tr>\n",
       "      <th>1</th>\n",
       "      <td>001</td>\n",
       "      <td>1</td>\n",
       "    </tr>\n",
       "    <tr>\n",
       "      <th>2</th>\n",
       "      <td>010</td>\n",
       "      <td>1</td>\n",
       "    </tr>\n",
       "    <tr>\n",
       "      <th>3</th>\n",
       "      <td>011</td>\n",
       "      <td>1</td>\n",
       "    </tr>\n",
       "    <tr>\n",
       "      <th>4</th>\n",
       "      <td>100</td>\n",
       "      <td>1</td>\n",
       "    </tr>\n",
       "    <tr>\n",
       "      <th>5</th>\n",
       "      <td>101</td>\n",
       "      <td>1</td>\n",
       "    </tr>\n",
       "    <tr>\n",
       "      <th>6</th>\n",
       "      <td>110</td>\n",
       "      <td>1</td>\n",
       "    </tr>\n",
       "    <tr>\n",
       "      <th>7</th>\n",
       "      <td>111</td>\n",
       "      <td>0</td>\n",
       "    </tr>\n",
       "  </tbody>\n",
       "</table>\n",
       "</div>"
      ],
      "text/plain": [
       "  input  output\n",
       "0   000       0\n",
       "1   001       1\n",
       "2   010       1\n",
       "3   011       1\n",
       "4   100       1\n",
       "5   101       1\n",
       "6   110       1\n",
       "7   111       0"
      ]
     },
     "execution_count": 3,
     "metadata": {},
     "output_type": "execute_result"
    }
   ],
   "source": [
    "Cellular_Automaton(dim=3).show_rule(rule_id=126)"
   ]
  },
  {
   "cell_type": "code",
   "execution_count": 4,
   "metadata": {
    "collapsed": false
   },
   "outputs": [
    {
     "data": {
      "text/plain": [
       "array([[0, 0, 0, 0, 0, 1, 0, 0, 0, 0],\n",
       "       [0, 0, 0, 0, 1, 1, 1, 0, 0, 0],\n",
       "       [0, 0, 0, 1, 1, 0, 1, 1, 0, 0],\n",
       "       [0, 0, 1, 1, 1, 1, 1, 1, 1, 0],\n",
       "       [0, 1, 1, 0, 0, 0, 0, 0, 1, 1],\n",
       "       [1, 1, 1, 1, 0, 0, 0, 1, 1, 1]])"
      ]
     },
     "execution_count": 4,
     "metadata": {},
     "output_type": "execute_result"
    }
   ],
   "source": [
    "arr = Cellular_Automaton(nb_cells=10, dim=3, init='center').iterate(rule_id=126, nb_iter=5)\n",
    "arr"
   ]
  },
  {
   "cell_type": "code",
   "execution_count": 5,
   "metadata": {
    "collapsed": false
   },
   "outputs": [
    {
     "data": {
      "image/png": "[encoded data removed]",
      "text/plain": [
       "<matplotlib.figure.Figure at 0x102541ad0>"
      ]
     },
     "metadata": {},
     "output_type": "display_data"
    }
   ],
   "source": [
    "Cellular_Automaton(nb_cells=520, dim=3, init='center').plot(rule_id=126, nb_iter=255);"
   ]
  },
  {
   "cell_type": "code",
   "execution_count": 6,
   "metadata": {
    "collapsed": false
   },
   "outputs": [
    {
     "data": {
      "image/png": "[encoded data removed]",
      "text/plain": [
       "<matplotlib.figure.Figure at 0x113d29e10>"
      ]
     },
     "metadata": {},
     "output_type": "display_data"
    }
   ],
   "source": [
    "fig, ax = pl.subplots(ncols=2, nrows=2, figsize=(10, 8))\n",
    "\n",
    "Cellular_Automaton(nb_cells=63, dim=3).plot(rule_id=1, ax=ax[0,0])\n",
    "Cellular_Automaton(nb_cells=63, dim=3).plot(rule_id=12, ax=ax[0,1])\n",
    "Cellular_Automaton(nb_cells=63, dim=3).plot(rule_id=45, ax=ax[1,0])\n",
    "Cellular_Automaton(nb_cells=63, dim=3).plot(rule_id=150, ax=ax[1,1])\n",
    "\n",
    "fig.tight_layout()"
   ]
  },
  {
   "cell_type": "code",
   "execution_count": 7,
   "metadata": {
    "collapsed": false
   },
   "outputs": [
    {
     "data": {
      "image/png": "[encoded data removed]",
      "text/plain": [
       "<matplotlib.figure.Figure at 0x112f538d0>"
      ]
     },
     "metadata": {},
     "output_type": "display_data"
    }
   ],
   "source": [
    "fig, ax = pl.subplots(ncols=4, figsize=(10, 10))\n",
    "\n",
    "Cellular_Automaton(nb_cells=63, dim=3, init='random').plot(rule_id=250, nb_iter=100, ax=ax[0])\n",
    "Cellular_Automaton(nb_cells=63, dim=3, init='random').plot(rule_id=1, nb_iter=100, ax=ax[1])\n",
    "Cellular_Automaton(nb_cells=63, dim=3, init='random').plot(rule_id=30, nb_iter=100, ax=ax[2])\n",
    "Cellular_Automaton(nb_cells=63, dim=3, init='random').plot(rule_id=126, nb_iter=100, ax=ax[3])\n",
    "\n",
    "fig.tight_layout()"
   ]
  },
  {
   "cell_type": "code",
   "execution_count": 8,
   "metadata": {
    "collapsed": false
   },
   "outputs": [
    {
     "name": "stdout",
     "output_type": "stream",
     "text": [
      "Number of different rules: Explosive !\n",
      "dim=1\t4.0\n",
      "dim=3\t256.0\n",
      "dim=5\t4294967296.0\n",
      "dim=7\t3.40282366921e+38\n",
      "dim=9\t1.34078079299e+154\n"
     ]
    }
   ],
   "source": [
    "print 'Number of different rules: Explosive !'\n",
    "for dim in range(1, 10, 2):\n",
    "    nb_rule = 2**(2**dim)\n",
    "    print 'dim={}\\t{}'.format(dim, float(nb_rule))"
   ]
  },
  {
   "cell_type": "code",
   "execution_count": null,
   "metadata": {
    "collapsed": true
   },
   "outputs": [],
   "source": []
  }
 ],
 "metadata": {
  "kernelspec": {
   "display_name": "Python 2",
   "language": "python",
   "name": "python2"
  },
  "language_info": {
   "codemirror_mode": {
    "name": "ipython",
    "version": 2
   },
   "file_extension": ".py",
   "mimetype": "text/x-python",
   "name": "python",
   "nbconvert_exporter": "python",
   "pygments_lexer": "ipython2",
   "version": "2.7.10"
  }
 },
 "nbformat": 4,
 "nbformat_minor": 0
}

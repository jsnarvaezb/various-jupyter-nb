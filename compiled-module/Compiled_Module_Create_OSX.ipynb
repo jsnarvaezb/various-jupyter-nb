{
 "cells": [
  {
   "cell_type": "code",
   "execution_count": 1,
   "metadata": {
    "collapsed": true
   },
   "outputs": [],
   "source": [
    "import os\n",
    "import numpy as np"
   ]
  },
  {
   "cell_type": "code",
   "execution_count": 2,
   "metadata": {
    "collapsed": false
   },
   "outputs": [
    {
     "name": "stdout",
     "output_type": "stream",
     "text": [
      "Overwriting my_hidden_module.pyx\n"
     ]
    }
   ],
   "source": [
    "%%writefile my_hidden_module.pyx\n",
    "\n",
    "cimport cython\n",
    "import numpy as np\n",
    "\n",
    "\n",
    "@cython.boundscheck(False)\n",
    "cpdef double[:] func_one_C(double[:, :] M, double[:] V, double eps, int b):\n",
    "    cdef int m = M.shape[0]\n",
    "    cdef int n = M.shape[1]\n",
    "    cdef double[:] R = np.empty(m, dtype=np.float64)\n",
    "\n",
    "    for i in range(m):\n",
    "        R[i] = 0\n",
    "\n",
    "    if V.shape[0]!=n:\n",
    "        return R\n",
    "\n",
    "    for i in range(m):\n",
    "        for j in range(n): \n",
    "            R[i] += M[i, j]*V[j]\n",
    "        R[i] += eps*b\n",
    "            \n",
    "    return np.asarray(R)\n",
    "\n",
    "\n",
    "\n",
    "cpdef double func_two_C(double a, double b):\n",
    "    return a*b\n"
   ]
  },
  {
   "cell_type": "code",
   "execution_count": 3,
   "metadata": {
    "collapsed": false
   },
   "outputs": [
    {
     "name": "stdout",
     "output_type": "stream",
     "text": [
      "Overwriting setup.py\n"
     ]
    }
   ],
   "source": [
    "%%writefile setup.py\n",
    "\n",
    "from distutils.core import setup\n",
    "from Cython.Build import cythonize\n",
    "import numpy as np\n",
    "\n",
    "setup(\n",
    "  name = 'Hidden_Module',\n",
    "  ext_modules = cythonize('my_hidden_module.pyx', include_path = [np.get_include()])\n",
    ")"
   ]
  },
  {
   "cell_type": "code",
   "execution_count": 4,
   "metadata": {
    "collapsed": false
   },
   "outputs": [
    {
     "name": "stdout",
     "output_type": "stream",
     "text": [
      "/Users/Olivier/Dropbox/Archives/Software/Python/Patrick_NRBee\n",
      "-rw-r--r-- 1 Olivier staff  663222 Sep 19 02:34 my_hidden_module.c\n",
      "-rw-r--r-- 1 Olivier staff     537 Nov 13 07:53 my_hidden_module.pyx\n",
      "-rwxr-xr-x 1 Olivier staff  140724 Sep 19 02:34 my_hidden_module.so\n",
      "-rw-r--r-- 1 Olivier staff     208 Nov 13 07:53 setup.py\n"
     ]
    }
   ],
   "source": [
    "! pwd\n",
    "! ls -l | grep 'hidden\\|setup'"
   ]
  },
  {
   "cell_type": "code",
   "execution_count": 5,
   "metadata": {
    "collapsed": false,
    "scrolled": true
   },
   "outputs": [
    {
     "name": "stdout",
     "output_type": "stream",
     "text": [
      "compile\n",
      "exit code = 0 --> OK\n",
      "exit code != 0 --> NOK\n",
      "\n",
      "Compiling my_hidden_module.pyx because it changed.\n",
      "[1/1] Cythonizing my_hidden_module.pyx\n",
      "running build_ext\n",
      "building 'my_hidden_module' extension\n",
      "gcc -fno-strict-aliasing -I/Users/Olivier/anaconda/include -arch x86_64 -DNDEBUG -g -fwrapv -O3 -Wall -Wstrict-prototypes -I/Users/Olivier/anaconda/include/python2.7 -c my_hidden_module.c -o build/temp.macosx-10.5-x86_64-2.7/my_hidden_module.o\n",
      "\u001b[1mmy_hidden_module.c:17682:32: \u001b[0m\u001b[0;1;35mwarning: \u001b[0m\u001b[1munused function '__Pyx_PyUnicode_FromString'\n",
      "      [-Wunused-function]\u001b[0m\n",
      "static CYTHON_INLINE PyObject* __Pyx_PyUnicode_FromString(const char* c_str) {\n",
      "\u001b[0;1;32m                               ^\n",
      "\u001b[0m\u001b[1mmy_hidden_module.c:336:29: \u001b[0m\u001b[0;1;35mwarning: \u001b[0m\u001b[1munused function '__Pyx_Py_UNICODE_strlen'\n",
      "      [-Wunused-function]\u001b[0m\n",
      "static CYTHON_INLINE size_t __Pyx_Py_UNICODE_strlen(const Py_UNICODE *u)\n",
      "\u001b[0;1;32m                            ^\n",
      "\u001b[0m\u001b[1mmy_hidden_module.c:17859:33: \u001b[0m\u001b[0;1;35mwarning: \u001b[0m\u001b[1munused function '__Pyx_PyInt_FromSize_t'\n",
      "      [-Wunused-function]\u001b[0m\n",
      "static CYTHON_INLINE PyObject * __Pyx_PyInt_FromSize_t(size_t ival) {\n",
      "\u001b[0;1;32m                                ^\n",
      "\u001b[0m\u001b[1mmy_hidden_module.c:15214:26: \u001b[0m\u001b[0;1;35mwarning: \u001b[0m\u001b[1munused function '__Pyx_GetBufferAndValidate'\n",
      "      [-Wunused-function]\u001b[0m\n",
      "static CYTHON_INLINE int __Pyx_GetBufferAndValidate(\n",
      "\u001b[0;1;32m                         ^\n",
      "\u001b[0m\u001b[1mmy_hidden_module.c:15248:27: \u001b[0m\u001b[0;1;35mwarning: \u001b[0m\u001b[1munused function '__Pyx_SafeReleaseBuffer'\n",
      "      [-Wunused-function]\u001b[0m\n",
      "static CYTHON_INLINE void __Pyx_SafeReleaseBuffer(Py_buffer* info) {\n",
      "\u001b[0;1;32m                          ^\n",
      "\u001b[0m\u001b[1mmy_hidden_module.c:15320:1: \u001b[0m\u001b[0;1;35mwarning: \u001b[0m\u001b[1munused function '__pyx_add_acquisition_count_locked'\n",
      "      [-Wunused-function]\u001b[0m\n",
      "__pyx_add_acquisition_count_locked(__pyx_atomic_int *acquisition_count,\n",
      "\u001b[0;1;32m^\n",
      "\u001b[0m\u001b[1mmy_hidden_module.c:15330:1: \u001b[0m\u001b[0;1;35mwarning: \u001b[0m\u001b[1munused function '__pyx_sub_acquisition_count_locked'\n",
      "      [-Wunused-function]\u001b[0m\n",
      "__pyx_sub_acquisition_count_locked(__pyx_atomic_int *acquisition_count,\n",
      "\u001b[0;1;32m^\n",
      "\u001b[0m\u001b[1mmy_hidden_module.c:16186:32: \u001b[0m\u001b[0;1;35mwarning: \u001b[0m\u001b[1munused function '__Pyx_GetItemInt_List_Fast'\n",
      "      [-Wunused-function]\u001b[0m\n",
      "static CYTHON_INLINE PyObject *__Pyx_GetItemInt_List_Fast(PyObject *o, Py_ssize_t i,\n",
      "\u001b[0;1;32m                               ^\n",
      "\u001b[0m\u001b[1mmy_hidden_module.c:16201:32: \u001b[0m\u001b[0;1;35mwarning: \u001b[0m\u001b[1munused function '__Pyx_GetItemInt_Tuple_Fast'\n",
      "      [-Wunused-function]\u001b[0m\n",
      "static CYTHON_INLINE PyObject *__Pyx_GetItemInt_Tuple_Fast(PyObject *o, Py_ssize_t i,\n",
      "\u001b[0;1;32m                               ^\n",
      "\u001b[0m\u001b[1mmy_hidden_module.c:17269:27: \u001b[0m\u001b[0;1;35mwarning: \u001b[0m\u001b[1mfunction '__Pyx_PyInt_As_char' is not needed and\n",
      "      will not be emitted [-Wunneeded-internal-declaration]\u001b[0m\n",
      "static CYTHON_INLINE char __Pyx_PyInt_As_char(PyObject *x) {\n",
      "\u001b[0;1;32m                          ^\n",
      "\u001b[0m\u001b[1mmy_hidden_module.c:17453:27: \u001b[0m\u001b[0;1;35mwarning: \u001b[0m\u001b[1mfunction '__Pyx_PyInt_As_long' is not needed and\n",
      "      will not be emitted [-Wunneeded-internal-declaration]\u001b[0m\n",
      "static CYTHON_INLINE long __Pyx_PyInt_As_long(PyObject *x) {\n",
      "\u001b[0;1;32m                          ^\n",
      "\u001b[0m11 warnings generated.\n",
      "gcc -bundle -undefined dynamic_lookup -L/Users/Olivier/anaconda/lib -arch x86_64 -arch x86_64 build/temp.macosx-10.5-x86_64-2.7/my_hidden_module.o -L/Users/Olivier/anaconda/lib -o /Users/Olivier/Dropbox/Archives/Software/Python/Patrick_NRBee/my_hidden_module.so\n"
     ]
    }
   ],
   "source": [
    "print 'compile'\n",
    "print 'exit code = 0 --> OK'\n",
    "print 'exit code != 0 --> NOK'\n",
    "print\n",
    "\n",
    "! python setup.py build_ext --inplace"
   ]
  },
  {
   "cell_type": "code",
   "execution_count": 6,
   "metadata": {
    "collapsed": false
   },
   "outputs": [
    {
     "name": "stdout",
     "output_type": "stream",
     "text": [
      "compiled module is the .so the list below - can be imported\n",
      "/Users/Olivier/Dropbox/Archives/Software/Python/Patrick_NRBee\n",
      "-rw-r--r-- 1 Olivier staff  665320 Nov 13 07:54 my_hidden_module.c\n",
      "-rw-r--r-- 1 Olivier staff     537 Nov 13 07:53 my_hidden_module.pyx\n",
      "-rwxr-xr-x 1 Olivier staff  136676 Nov 13 07:54 my_hidden_module.so\n"
     ]
    }
   ],
   "source": [
    "print 'compiled module is the .so the list below - can be imported'\n",
    "! pwd\n",
    "! ls -l | grep hidden"
   ]
  },
  {
   "cell_type": "code",
   "execution_count": null,
   "metadata": {
    "collapsed": true
   },
   "outputs": [],
   "source": []
  }
 ],
 "metadata": {
  "kernelspec": {
   "display_name": "Python 2",
   "language": "python",
   "name": "python2"
  },
  "language_info": {
   "codemirror_mode": {
    "name": "ipython",
    "version": 2
   },
   "file_extension": ".py",
   "mimetype": "text/x-python",
   "name": "python",
   "nbconvert_exporter": "python",
   "pygments_lexer": "ipython2",
   "version": "2.7.10"
  }
 },
 "nbformat": 4,
 "nbformat_minor": 0
}

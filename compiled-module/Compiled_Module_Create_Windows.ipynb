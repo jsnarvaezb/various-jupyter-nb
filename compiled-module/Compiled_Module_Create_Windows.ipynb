{
 "cells": [
  {
   "cell_type": "code",
   "execution_count": 1,
   "metadata": {
    "collapsed": true
   },
   "outputs": [],
   "source": [
    "import os\n",
    "import numpy as np"
   ]
  },
  {
   "cell_type": "code",
   "execution_count": 2,
   "metadata": {
    "collapsed": false
   },
   "outputs": [
    {
     "name": "stdout",
     "output_type": "stream",
     "text": [
      "Overwriting data\\my_hidden_module.pyx\n"
     ]
    }
   ],
   "source": [
    "%%writefile data\\my_hidden_module.pyx\n",
    "\n",
    "cimport cython\n",
    "import numpy as np\n",
    "\n",
    "@cython.boundscheck(False)\n",
    "cpdef double[:] func_one_C(double[:, :] M, double[:] V, double eps, int b):\n",
    "    cdef int m = M.shape[0]\n",
    "    cdef int n = M.shape[1]\n",
    "    cdef double[:] R = np.empty(m, dtype=np.float64)\n",
    "\n",
    "    for i in range(m):\n",
    "        R[i] = 0\n",
    "\n",
    "    if V.shape[0]!=n:\n",
    "        return R\n",
    "\n",
    "    for i in range(m):\n",
    "        for j in range(n): \n",
    "            R[i] += M[i, j]*V[j]\n",
    "        R[i] += eps*b\n",
    "            \n",
    "    return np.asarray(R)\n",
    "\n",
    "\n",
    "\n",
    "cpdef double func_two_C(double a, double b):\n",
    "    return a*b\n"
   ]
  },
  {
   "cell_type": "code",
   "execution_count": 3,
   "metadata": {
    "collapsed": false
   },
   "outputs": [
    {
     "name": "stdout",
     "output_type": "stream",
     "text": [
      "Overwriting data\\setup.py\n"
     ]
    }
   ],
   "source": [
    "%%writefile data\\setup.py\n",
    "\n",
    "try:\n",
    "    from setuptools import setup\n",
    "#     from setuptools import Extension\n",
    "except ImportError:\n",
    "    from distutils.core import setup\n",
    "#     from distutils.extension import Extension\n",
    "    \n",
    "from Cython.Build import cythonize\n",
    "import numpy as np\n",
    "\n",
    "setup(\n",
    "    name = 'Hidden_Module',\n",
    "    ext_modules = cythonize('data\\my_hidden_module.pyx', include_path = [np.get_include()])\n",
    ")\n",
    " \n"
   ]
  },
  {
   "cell_type": "code",
   "execution_count": 4,
   "metadata": {
    "collapsed": false
   },
   "outputs": [
    {
     "name": "stdout",
     "output_type": "stream",
     "text": [
      "C:\\Users\\kilia_000\\Desktop\\Stage\\Notebook\\test_cython\n",
      "data\\my_hidden_module.c\n",
      "data\\setup.py\n",
      "data\\setup.py\n"
     ]
    }
   ],
   "source": [
    "! echo %cd%\n",
    "! findstr /M \"hidden\" data\\*\n",
    "! findstr /M \"setup\" data\\*"
   ]
  },
  {
   "cell_type": "code",
   "execution_count": 5,
   "metadata": {
    "collapsed": false
   },
   "outputs": [
    {
     "name": "stdout",
     "output_type": "stream",
     "text": [
      "compile\n",
      "exit code = 0 --> OK\n",
      "exit code != 0 --> NOK\n",
      "\n",
      "Compiling data\\my_hidden_module.pyx because it changed.\n",
      "[1/1] Cythonizing data\\my_hidden_module.pyx\n",
      "running build_ext\n",
      "building 'my_hidden_module' extension\n",
      "C:\\Users\\kilia_000\\AppData\\Local\\Programs\\Common\\Microsoft\\Visual C++ for Python\\9.0\\VC\\Bin\\amd64\\cl.exe /c /nologo /Ox /MD /W3 /GS- /DNDEBUG -IC:\\Users\\kilia_000\\Anaconda\\include -IC:\\Users\\kilia_000\\Anaconda\\PC /Tcdata\\my_hidden_module.c /Fobuild\\temp.win-amd64-2.7\\Release\\data\\my_hidden_module.obj\n",
      "my_hidden_module.c\n",
      "data\\my_hidden_module.c(1367) : warning C4244: '=' : conversion from 'Py_ssize_t' to 'int', possible loss of data\n",
      "data\\my_hidden_module.c(1376) : warning C4244: '=' : conversion from 'Py_ssize_t' to 'int', possible loss of data\n",
      "C:\\Users\\kilia_000\\AppData\\Local\\Programs\\Common\\Microsoft\\Visual C++ for Python\\9.0\\VC\\Bin\\amd64\\link.exe /DLL /nologo /INCREMENTAL:NO /LIBPATH:C:\\Users\\kilia_000\\Anaconda\\libs /LIBPATH:C:\\Users\\kilia_000\\Anaconda\\PCbuild\\amd64 /EXPORT:initmy_hidden_module build\\temp.win-amd64-2.7\\Release\\data\\my_hidden_module.obj /OUT:build\\lib.win-amd64-2.7\\my_hidden_module.pyd /IMPLIB:build\\temp.win-amd64-2.7\\Release\\data\\my_hidden_module.lib /MANIFESTFILE:build\\temp.win-amd64-2.7\\Release\\data\\my_hidden_module.pyd.manifest\n",
      "my_hidden_module.obj : warning LNK4197: export 'initmy_hidden_module' specified multiple times; using first specification\n",
      "   Creating library build\\temp.win-amd64-2.7\\Release\\data\\my_hidden_module.lib and object build\\temp.win-amd64-2.7\\Release\\data\\my_hidden_module.exp\n",
      "copying build\\lib.win-amd64-2.7\\my_hidden_module.pyd -> \n"
     ]
    }
   ],
   "source": [
    "#creer fichier cython utilisable\n",
    "print 'compile'\n",
    "print 'exit code = 0 --> OK'\n",
    "print 'exit code != 0 --> NOK'\n",
    "print\n",
    "\n",
    "! python data\\setup.py build_ext --inplace"
   ]
  },
  {
   "cell_type": "code",
   "execution_count": 6,
   "metadata": {
    "collapsed": false
   },
   "outputs": [
    {
     "name": "stdout",
     "output_type": "stream",
     "text": [
      "C:\\Users\\kilia_000\\Desktop\\Stage\\Notebook\\test_cython\n",
      "13/11/2015  16:42           106ÿ496 my_hidden_module.pyd\n"
     ]
    }
   ],
   "source": [
    "! echo %cd%\n",
    "! dir -r -filter \"*\" | findstr \".pyd\""
   ]
  },
  {
   "cell_type": "code",
   "execution_count": null,
   "metadata": {
    "collapsed": true
   },
   "outputs": [],
   "source": []
  }
 ],
 "metadata": {
  "kernelspec": {
   "display_name": "Python 2",
   "language": "python",
   "name": "python2"
  },
  "language_info": {
   "codemirror_mode": {
    "name": "ipython",
    "version": 2
   },
   "file_extension": ".py",
   "mimetype": "text/x-python",
   "name": "python",
   "nbconvert_exporter": "python",
   "pygments_lexer": "ipython2",
   "version": "2.7.10"
  }
 },
 "nbformat": 4,
 "nbformat_minor": 0
}

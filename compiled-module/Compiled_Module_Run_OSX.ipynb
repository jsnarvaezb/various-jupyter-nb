{
 "cells": [
  {
   "cell_type": "code",
   "execution_count": 1,
   "metadata": {
    "collapsed": false
   },
   "outputs": [
    {
     "name": "stdout",
     "output_type": "stream",
     "text": [
      "/Users/Olivier/Dropbox/Archives/Software/Python/Patrick_NRBee\n",
      "-rw-r--r-- 1 Olivier staff  665320 Nov 13 07:54 my_hidden_module.c\n",
      "-rw-r--r-- 1 Olivier staff     537 Nov 13 07:53 my_hidden_module.pyx\n",
      "-rwxr-xr-x 1 Olivier staff  136676 Nov 13 07:54 my_hidden_module.so\n"
     ]
    }
   ],
   "source": [
    "! pwd\n",
    "! ls -l | grep hidden"
   ]
  },
  {
   "cell_type": "code",
   "execution_count": 2,
   "metadata": {
    "collapsed": true
   },
   "outputs": [],
   "source": [
    "import numpy as np\n",
    "from my_hidden_module import func_one_C, func_two_C"
   ]
  },
  {
   "cell_type": "markdown",
   "metadata": {},
   "source": [
    "##Call func_one"
   ]
  },
  {
   "cell_type": "code",
   "execution_count": 3,
   "metadata": {
    "collapsed": false
   },
   "outputs": [
    {
     "name": "stdout",
     "output_type": "stream",
     "text": [
      "[ -59.42696375   23.62392517   -7.926686    -26.60121376 -112.37107668]\n",
      "[ -59.42696375   23.62392517   -7.926686    -26.60121376 -112.37107668]\n",
      "r==R ? True\n"
     ]
    }
   ],
   "source": [
    "np.random.seed(1234567)\n",
    "m, n = 5, 2\n",
    "M = np.random.uniform(low=-10, high=10, size=(m, n))\n",
    "V = np.random.uniform(low=-10, high=10, size=(n))\n",
    "eps = 0.23\n",
    "\n",
    "b = True\n",
    "r = np.dot(M, V)+b*eps\n",
    "print r\n",
    "\n",
    "R = func_one_C(M, V, eps, b)\n",
    "R = np.asarray(R)\n",
    "print R\n",
    "\n",
    "print 'r==R ? {}'.format(np.allclose(r, R))\n"
   ]
  },
  {
   "cell_type": "markdown",
   "metadata": {},
   "source": [
    "##Call func_two"
   ]
  },
  {
   "cell_type": "code",
   "execution_count": 4,
   "metadata": {
    "collapsed": false
   },
   "outputs": [
    {
     "name": "stdout",
     "output_type": "stream",
     "text": [
      "13.0\n",
      "13.0\n",
      "r==R ? True\n"
     ]
    }
   ],
   "source": [
    "a = 6.5\n",
    "b = 2\n",
    "r = a*b\n",
    "print r\n",
    "\n",
    "R = func_two_C(a, b)\n",
    "\n",
    "print R\n",
    "print 'r==R ? {}'.format(r==R)"
   ]
  },
  {
   "cell_type": "code",
   "execution_count": 5,
   "metadata": {
    "collapsed": true
   },
   "outputs": [],
   "source": [
    "func_two_C??"
   ]
  },
  {
   "cell_type": "code",
   "execution_count": null,
   "metadata": {
    "collapsed": true
   },
   "outputs": [],
   "source": []
  }
 ],
 "metadata": {
  "kernelspec": {
   "display_name": "Python 2",
   "language": "python",
   "name": "python2"
  },
  "language_info": {
   "codemirror_mode": {
    "name": "ipython",
    "version": 2
   },
   "file_extension": ".py",
   "mimetype": "text/x-python",
   "name": "python",
   "nbconvert_exporter": "python",
   "pygments_lexer": "ipython2",
   "version": "2.7.10"
  }
 },
 "nbformat": 4,
 "nbformat_minor": 0
}

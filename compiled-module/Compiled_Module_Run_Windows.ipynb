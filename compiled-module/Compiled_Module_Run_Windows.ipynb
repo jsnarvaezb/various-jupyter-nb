{
 "cells": [
  {
   "cell_type": "code",
   "execution_count": 19,
   "metadata": {
    "collapsed": false,
    "scrolled": true
   },
   "outputs": [
    {
     "name": "stdout",
     "output_type": "stream",
     "text": [
      "C:\\Users\\kilia_000\\Desktop\\Stage\\Notebook\\test_cython\n",
      "Compiled\\my_hidden_module.pyd\n",
      "Compiled\\__init__.py\n",
      "Compiled\\__init__.pyc\n"
     ]
    }
   ],
   "source": [
    "! echo %cd%\n",
    "! findstr /M \"hidden\" Compiled\\*"
   ]
  },
  {
   "cell_type": "code",
   "execution_count": 20,
   "metadata": {
    "collapsed": false
   },
   "outputs": [
    {
     "name": "stdout",
     "output_type": "stream",
     "text": [
      "Overwriting Compiled\\__init__.py\n"
     ]
    }
   ],
   "source": [
    "%%writefile Compiled\\__init__.py\n",
    "\n",
    "import my_hidden_module\n",
    "\n",
    "#import my_hidden_module_2"
   ]
  },
  {
   "cell_type": "code",
   "execution_count": 21,
   "metadata": {
    "collapsed": false
   },
   "outputs": [],
   "source": [
    "import numpy as np\n",
    "\n",
    "from Compiled.my_hidden_module import func_one_C, func_two_C\n",
    "\n",
    "#from Compiled.my_hidden_module import toto"
   ]
  },
  {
   "cell_type": "markdown",
   "metadata": {},
   "source": [
    "##Call func_one"
   ]
  },
  {
   "cell_type": "code",
   "execution_count": 22,
   "metadata": {
    "collapsed": false
   },
   "outputs": [
    {
     "name": "stdout",
     "output_type": "stream",
     "text": [
      "[ -59.42696375   23.62392517   -7.926686    -26.60121376 -112.37107668]\n",
      "[ -59.42696375   23.62392517   -7.926686    -26.60121376 -112.37107668]\n",
      "r==R ? True\n"
     ]
    }
   ],
   "source": [
    "np.random.seed(1234567)\n",
    "m, n = 5, 2\n",
    "M = np.random.uniform(low=-10, high=10, size=(m, n))\n",
    "V = np.random.uniform(low=-10, high=10, size=(n))\n",
    "eps = 0.23\n",
    "\n",
    "b = True\n",
    "r = np.dot(M, V)+b*eps\n",
    "print r\n",
    "\n",
    "R = func_one_C(M, V, eps, b)\n",
    "R = np.asarray(R)\n",
    "print R\n",
    "\n",
    "print 'r==R ? {}'.format(np.allclose(r, R))\n"
   ]
  },
  {
   "cell_type": "markdown",
   "metadata": {},
   "source": [
    "##Call func_two"
   ]
  },
  {
   "cell_type": "code",
   "execution_count": 23,
   "metadata": {
    "collapsed": false
   },
   "outputs": [
    {
     "name": "stdout",
     "output_type": "stream",
     "text": [
      "13.0\n",
      "13.0\n",
      "r==R ? True\n"
     ]
    }
   ],
   "source": [
    "a = 6.5\n",
    "b = 2\n",
    "r = a*b\n",
    "print r\n",
    "\n",
    "R = func_two_C(a, b)\n",
    "\n",
    "print R\n",
    "print 'r==R ? {}'.format(r==R)"
   ]
  },
  {
   "cell_type": "code",
   "execution_count": null,
   "metadata": {
    "collapsed": true
   },
   "outputs": [],
   "source": []
  }
 ],
 "metadata": {
  "kernelspec": {
   "display_name": "Python 2",
   "language": "python",
   "name": "python2"
  },
  "language_info": {
   "codemirror_mode": {
    "name": "ipython",
    "version": 2
   },
   "file_extension": ".py",
   "mimetype": "text/x-python",
   "name": "python",
   "nbconvert_exporter": "python",
   "pygments_lexer": "ipython2",
   "version": "2.7.10"
  }
 },
 "nbformat": 4,
 "nbformat_minor": 0
}

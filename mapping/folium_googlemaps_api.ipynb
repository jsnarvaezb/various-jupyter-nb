{
 "cells": [
  {
   "cell_type": "code",
   "execution_count": 1,
   "metadata": {
    "collapsed": false
   },
   "outputs": [
    {
     "name": "stderr",
     "output_type": "stream",
     "text": [
      "/Users/Olivier/anaconda/lib/python2.7/site-packages/matplotlib/__init__.py:872: UserWarning: axes.color_cycle is deprecated and replaced with axes.prop_cycle; please use the latter.\n",
      "  warnings.warn(self.msg_depr % (key, alt_key))\n"
     ]
    }
   ],
   "source": [
    "import os\n",
    "import folium\n",
    "from IPython.display import IFrame"
   ]
  },
  {
   "cell_type": "markdown",
   "metadata": {},
   "source": [
    "## Folium"
   ]
  },
  {
   "cell_type": "code",
   "execution_count": 2,
   "metadata": {
    "collapsed": false
   },
   "outputs": [
    {
     "name": "stdout",
     "output_type": "stream",
     "text": [
      "get the .html file in directory \"./map\"\n"
     ]
    },
    {
     "data": {
      "text/html": [
       "<iframe srcdoc=\"<!DOCTYPE html>\n",
       "<head>\n",
       "  <meta http-equiv=&quot;content-type&quot; content=&quot;text/html; charset=UTF-8&quot; />\n",
       "   <link rel=&quot;stylesheet&quot; href=&quot;https://rawgit.com/andrewgiessel/leafletstuff/master/leaflet.css&quot; />\n",
       "   <script src=&quot;https://cdnjs.cloudflare.com/ajax/libs/leaflet/0.7.3/leaflet.js&quot;></script>\n",
       "\n",
       "   <script src=&quot;https://ajax.googleapis.com/ajax/libs/jquery/1.11.1/jquery.min.js&quot;></script>\n",
       "\n",
       "   <link rel=&quot;stylesheet&quot; href=&quot;https://maxcdn.bootstrapcdn.com/bootstrap/3.2.0/css/bootstrap.min.css&quot;>\n",
       "   <link rel=&quot;stylesheet&quot; href=&quot;https://maxcdn.bootstrapcdn.com/bootstrap/3.2.0/css/bootstrap-theme.min.css&quot;>\n",
       "   <script src=&quot;https://maxcdn.bootstrapcdn.com/bootstrap/3.2.0/js/bootstrap.min.js&quot;></script>\n",
       "\n",
       "   <link href=&quot;https://maxcdn.bootstrapcdn.com/font-awesome/4.1.0/css/font-awesome.min.css&quot; rel=&quot;stylesheet&quot;>\n",
       "\n",
       "   <link rel=&quot;stylesheet&quot; href=&quot;https://rawgit.com/lvoogdt/Leaflet.awesome-markers/2.0/develop/dist/leaflet.awesome-markers.css&quot;>\n",
       "   <script src=&quot;https://rawgithub.com/lvoogdt/Leaflet.awesome-markers/2.0/develop/dist/leaflet.awesome-markers.js&quot;></script>\n",
       "\n",
       "\n",
       "   <link rel=&quot;stylesheet&quot; href=&quot;https://cdnjs.cloudflare.com/ajax/libs/leaflet.markercluster/0.4.0/MarkerCluster.Default.css&quot;>\n",
       "   <link rel=&quot;stylesheet&quot; href=&quot;https://cdnjs.cloudflare.com/ajax/libs/leaflet.markercluster/0.4.0/MarkerCluster.css&quot;>\n",
       "   <script src=&quot;https://cdnjs.cloudflare.com/ajax/libs/leaflet.markercluster/0.4.0/leaflet.markercluster-src.js&quot;></script>\n",
       "   <script src=&quot;https://cdnjs.cloudflare.com/ajax/libs/leaflet.markercluster/0.4.0/leaflet.markercluster.js&quot;></script>\n",
       "\n",
       "   <link rel=&quot;stylesheet&quot; href=&quot;https://birdage.github.io/Leaflet.awesome-markers/dist/leaflet.awesome.rotate.css&quot;>\n",
       "\n",
       "   \n",
       "   \n",
       "   \n",
       "   \n",
       "\n",
       "   <style>\n",
       "\n",
       "      html, body {\n",
       "        width: 100%;\n",
       "        height: 100%;\n",
       "        margin: 0;\n",
       "        padding: 0;\n",
       "      }\n",
       "\n",
       "      #map {\n",
       "        position:absolute;\n",
       "        top:0;\n",
       "        bottom:0;\n",
       "        right:0;\n",
       "        left:0;\n",
       "      }\n",
       "\n",
       "   </style>\n",
       "</head>\n",
       "\n",
       "<body>\n",
       "\n",
       "   <div class=&quot;folium-map&quot; id=&quot;folium_caa68c939bcd48778311aab499f9e811&quot; style=&quot;width: 900px; height: 600px&quot;></div>\n",
       "\n",
       "   <script>\n",
       "\n",
       "      \n",
       "\n",
       "      var base_tile = L.tileLayer('https://{s}.tile.openstreetmap.org/{z}/{x}/{y}.png', {\n",
       "          maxZoom: 18,\n",
       "          minZoom: 1,\n",
       "          attribution: 'Map data (c) <a href=&quot;http://openstreetmap.org&quot;>OpenStreetMap</a> contributors'\n",
       "      });\n",
       "\n",
       "      var baseLayer = {\n",
       "        &quot;Base Layer&quot;: base_tile\n",
       "      };\n",
       "\n",
       "      /*\n",
       "      addition of the wms layers\n",
       "      */\n",
       "\n",
       "      \n",
       "\n",
       "      /*\n",
       "      addition of the tile layers\n",
       "      */\n",
       "      \n",
       "\n",
       "      /*\n",
       "      list of layers to be added\n",
       "      */\n",
       "      var layer_list = {\n",
       "      \n",
       "      };\n",
       "\n",
       "      /*\n",
       "      Bounding box.\n",
       "      */\n",
       "      var southWest = L.latLng(-90, -180),\n",
       "          northEast = L.latLng(90, 180),\n",
       "          bounds = L.latLngBounds(southWest, northEast);\n",
       "\n",
       "      /*\n",
       "      Creates the map and adds the selected layers\n",
       "      */\n",
       "      var map = L.map('folium_caa68c939bcd48778311aab499f9e811', {\n",
       "                                       center:[48.892306, 2.23472],\n",
       "                                       zoom: 16,\n",
       "                                       maxBounds: bounds,\n",
       "                                       layers: [base_tile]\n",
       "                                     });\n",
       "\n",
       "      L.control.layers(baseLayer, layer_list).addTo(map);\n",
       "\n",
       "      /*\n",
       "      addition of the image layers\n",
       "      */\n",
       "      \n",
       "      \n",
       "      //cluster group\n",
       "      var clusteredmarkers = L.markerClusterGroup();\n",
       "      //section for adding clustered markers\n",
       "      \n",
       "      //add the clustered markers to the group anyway\n",
       "      map.addLayer(clusteredmarkers);\n",
       "\n",
       "      \n",
       "\n",
       "      \n",
       "      var circle_1 = L.circle([48.89131, 2.231214], 14, {\n",
       "                            color: 'red',\n",
       "                            fillColor: 'orange',\n",
       "                            fillOpacity: 0.3\n",
       "                            });\n",
       "      circle_1.bindPopup(&quot;The Place: Basalte&quot;);\n",
       "      circle_1._popup.options.maxWidth = 300;\n",
       "      map.addLayer(circle_1)\n",
       "      \n",
       "\n",
       "      \n",
       "      var latLngs = [ [48.892, 2.2378],  [48.891822, 2.236138],  [48.892499, 2.233689],  [48.891981, 2.231463],  [48.891456, 2.231157], ];\n",
       "var line_1 = L.polyline(latLngs,{\n",
       "color: 'red',\n",
       "weight: 2,\n",
       "opacity: 1.0,\n",
       "});\n",
       "      \n",
       "      map.addLayer(line_1);\n",
       "      \n",
       "\n",
       "      \n",
       "\n",
       "      \n",
       "\n",
       "      \n",
       "\n",
       "\n",
       "\n",
       "   </script>\n",
       "\n",
       "</body>\" style=\"width: 100%; height: 500px; border: none\"></iframe>"
      ],
      "text/plain": [
       "<folium.folium.Map at 0x11045e190>"
      ]
     },
     "execution_count": 2,
     "metadata": {},
     "output_type": "execute_result"
    }
   ],
   "source": [
    "m = folium.Map(location=[48.892306, 2.234720],  width=900, height=600, zoom_start=16)\n",
    "m.line(locations=[[48.8920, 2.2378],\n",
    "                  [48.891822, 2.236138],\n",
    "                  [48.892499, 2.233689],\n",
    "                  [48.891981, 2.231463],\n",
    "                  [48.891456, 2.231157]],\n",
    "       line_color='red', line_weight=2, line_opacity=1.0)\n",
    "# m.simple_marker([48.891310, 2.231214], popup='Basalte')\n",
    "m.circle_marker(location=[48.891310, 2.231214], radius=14,\n",
    "                popup='The Place: Basalte', line_color='red',\n",
    "                fill_color='orange', fill_opacity=0.3)\n",
    "# m.lat_lng_popover()\n",
    "\n",
    "if not os.path.exists('map'):\n",
    "    os.makedirs('map')\n",
    "m.create_map(path=os.path.join('map', 'path_to_basalte_folium.html'))\n",
    "print 'get the .html file in directory \"./map\"'\n",
    "\n",
    "m"
   ]
  },
  {
   "cell_type": "markdown",
   "metadata": {},
   "source": [
    "## Google Maps"
   ]
  },
  {
   "cell_type": "code",
   "execution_count": 3,
   "metadata": {
    "collapsed": false
   },
   "outputs": [
    {
     "name": "stdout",
     "output_type": "stream",
     "text": [
      "get the .html file in directory \"./map\"\n"
     ]
    },
    {
     "data": {
      "text/html": [
       "\n",
       "        <iframe\n",
       "            width=\"900\"\n",
       "            height=\"600\"\n",
       "            src=\"map/path_to_basalte_gmaps.html\"\n",
       "            frameborder=\"0\"\n",
       "            allowfullscreen\n",
       "        ></iframe>\n",
       "        "
      ],
      "text/plain": [
       "<IPython.lib.display.IFrame at 0x11045e150>"
      ]
     },
     "execution_count": 3,
     "metadata": {},
     "output_type": "execute_result"
    }
   ],
   "source": [
    "html = \"\"\"\n",
    "<div id=\"map_canvas\" style=\"width:900px; height:600px;\"></div>\n",
    "\n",
    "<script defer src='http://maps.googleapis.com/maps/api/js?sensor=true&callback=init'>\n",
    "</script>\n",
    "\n",
    "<script>\n",
    "function init() {\n",
    "  console.log('Google Maps API loaded');\n",
    "  var map = new google.maps.Map(document.getElementById('map_canvas'), {\n",
    "    zoom: 16,\n",
    "    center: {lat: 48.892306, lng: 2.234720},\n",
    "    // mapTypeId: google.maps.MapTypeId.TERRAIN\n",
    "    // mapTypeId: google.maps.MapTypeId.SATELLITE\n",
    "    mapTypeId: google.maps.MapTypeId.HYBRID\n",
    "  });\n",
    "\n",
    "  var walkPathCoords = [\n",
    "    {lat: 48.8920, lng: 2.2378},\n",
    "    {lat: 48.891822, lng: 2.236138},\n",
    "    {lat: 48.892499, lng: 2.233689},\n",
    "    {lat: 48.891981, lng: 2.231463},\n",
    "    {lat: 48.891456, lng: 2.23115}\n",
    "  ];\n",
    "\n",
    "  var walkPath = new google.maps.Polyline({\n",
    "    path: walkPathCoords,\n",
    "    geodesic: true,\n",
    "    strokeColor: '#FF0000',\n",
    "    strokeOpacity: 1.0,\n",
    "    strokeWeight: 2\n",
    "  });\n",
    "\n",
    "  walkPath.setMap(map);\n",
    "\n",
    "  var marker = new google.maps.Marker({\n",
    "    position: {lat: 48.891310, lng: 2.231214},\n",
    "    map: map,\n",
    "    title: 'The Place: Basalte'\n",
    "  });\n",
    "  \n",
    "  window.walkPathCoords = walkPathCoords;\n",
    "  window.walkPath = walkPath;\n",
    "}\n",
    "</script>\n",
    "\"\"\"\n",
    "\n",
    "if not os.path.exists('map'):\n",
    "    os.makedirs('map')\n",
    "with open(os.path.join('map', 'path_to_basalte_gmaps.html'), 'w') as f:\n",
    "    f.write(html)\n",
    "print 'get the .html file in directory \"./map\"'\n",
    "\n",
    "IFrame(os.path.join('map', 'path_to_basalte_gmaps.html'), width=900, height=600)"
   ]
  },
  {
   "cell_type": "code",
   "execution_count": null,
   "metadata": {
    "collapsed": true
   },
   "outputs": [],
   "source": []
  }
 ],
 "metadata": {
  "kernelspec": {
   "display_name": "Python 2",
   "language": "python",
   "name": "python2"
  },
  "language_info": {
   "codemirror_mode": {
    "name": "ipython",
    "version": 2
   },
   "file_extension": ".py",
   "mimetype": "text/x-python",
   "name": "python",
   "nbconvert_exporter": "python",
   "pygments_lexer": "ipython2",
   "version": "2.7.11"
  }
 },
 "nbformat": 4,
 "nbformat_minor": 0
}

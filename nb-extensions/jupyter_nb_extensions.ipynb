{
 "cells": [
  {
   "cell_type": "code",
   "execution_count": 1,
   "metadata": {
    "code_folding": [],
    "collapsed": true,
    "ezpublish": {
     "type": "show"
    }
   },
   "outputs": [],
   "source": [
    "import sys, os\n",
    "import json\n",
    "import notebook as nb\n",
    "import requests as rq\n",
    "\n",
    "from jupyter_core.paths import jupyter_config_path, \\\n",
    "                               jupyter_config_dir, \\\n",
    "                               jupyter_data_dir, \\\n",
    "                               jupyter_path\n",
    "            \n",
    "from IPython.display import display, Javascript, HTML"
   ]
  },
  {
   "cell_type": "code",
   "execution_count": 2,
   "metadata": {
    "collapsed": false,
    "ezpublish": {
     "type": "show"
    }
   },
   "outputs": [
    {
     "name": "stdout",
     "output_type": "stream",
     "text": [
      "4.0.6\r\n"
     ]
    }
   ],
   "source": [
    "! jupyter --version"
   ]
  },
  {
   "cell_type": "markdown",
   "metadata": {
    "ezpublish": {
     "type": "show"
    }
   },
   "source": [
    "### Jupyter directories"
   ]
  },
  {
   "cell_type": "code",
   "execution_count": 3,
   "metadata": {
    "collapsed": false,
    "ezpublish": {
     "type": "show"
    }
   },
   "outputs": [
    {
     "name": "stdout",
     "output_type": "stream",
     "text": [
      "jupyter will look for configuration files in\n"
     ]
    },
    {
     "data": {
      "text/plain": [
       "['/Users/Olivier/.jupyter',\n",
       " '/Users/Olivier/anaconda/etc/jupyter',\n",
       " '/usr/local/etc/jupyter',\n",
       " '/etc/jupyter']"
      ]
     },
     "execution_count": 3,
     "metadata": {},
     "output_type": "execute_result"
    }
   ],
   "source": [
    "print 'jupyter will look for configuration files in'\n",
    "jupyter_config_path()"
   ]
  },
  {
   "cell_type": "code",
   "execution_count": 4,
   "metadata": {
    "collapsed": false,
    "ezpublish": {
     "type": "show"
    }
   },
   "outputs": [
    {
     "name": "stdout",
     "output_type": "stream",
     "text": [
      "local config files are in\n"
     ]
    },
    {
     "data": {
      "text/plain": [
       "'/Users/Olivier/.jupyter'"
      ]
     },
     "execution_count": 4,
     "metadata": {},
     "output_type": "execute_result"
    }
   ],
   "source": [
    "print 'local config files are in'\n",
    "jupyter_config_dir()"
   ]
  },
  {
   "cell_type": "code",
   "execution_count": 5,
   "metadata": {
    "collapsed": false,
    "ezpublish": {
     "type": "show"
    }
   },
   "outputs": [
    {
     "name": "stdout",
     "output_type": "stream",
     "text": [
      "The nbextension directory can be found in one of these directories\n"
     ]
    },
    {
     "data": {
      "text/plain": [
       "['/Users/Olivier/Library/Jupyter',\n",
       " '/Users/Olivier/anaconda/share/jupyter',\n",
       " '/usr/local/share/jupyter',\n",
       " '/usr/share/jupyter']"
      ]
     },
     "execution_count": 5,
     "metadata": {},
     "output_type": "execute_result"
    }
   ],
   "source": [
    "print 'The nbextension directory can be found in one of these directories'\n",
    "jupyter_path()"
   ]
  },
  {
   "cell_type": "code",
   "execution_count": 6,
   "metadata": {
    "collapsed": false,
    "ezpublish": {
     "type": "show"
    }
   },
   "outputs": [
    {
     "name": "stdout",
     "output_type": "stream",
     "text": [
      "config:\r\n",
      "    /Users/Olivier/.jupyter\r\n",
      "    /Users/Olivier/anaconda/etc/jupyter\r\n",
      "    /usr/local/etc/jupyter\r\n",
      "    /etc/jupyter\r\n",
      "data:\r\n",
      "    /Users/Olivier/Library/Jupyter\r\n",
      "    /Users/Olivier/anaconda/share/jupyter\r\n",
      "    /usr/local/share/jupyter\r\n",
      "    /usr/share/jupyter\r\n",
      "runtime:\r\n",
      "    /Users/Olivier/Library/Jupyter/runtime\r\n"
     ]
    }
   ],
   "source": [
    "! jupyter --paths"
   ]
  },
  {
   "cell_type": "code",
   "execution_count": 7,
   "metadata": {
    "collapsed": false,
    "ezpublish": {
     "type": "show"
    }
   },
   "outputs": [
    {
     "name": "stdout",
     "output_type": "stream",
     "text": [
      "{\"data\": [\"/Users/Olivier/Library/Jupyter\", \"/Users/Olivier/anaconda/share/jupyter\", \"/usr/local/share/jupyter\", \"/usr/share/jupyter\"], \"runtime\": [\"/Users/Olivier/Library/Jupyter/runtime\"], \"config\": [\"/Users/Olivier/.jupyter\", \"/Users/Olivier/anaconda/etc/jupyter\", \"/usr/local/etc/jupyter\", \"/etc/jupyter\"]}\r\n"
     ]
    }
   ],
   "source": [
    "! jupyter --paths --json"
   ]
  },
  {
   "cell_type": "markdown",
   "metadata": {
    "ezpublish": {
     "type": "show"
    }
   },
   "source": [
    "## To Install an extension"
   ]
  },
  {
   "cell_type": "markdown",
   "metadata": {
    "ezpublish": {
     "type": "show"
    }
   },
   "source": [
    "### From local or remote"
   ]
  },
  {
   "cell_type": "markdown",
   "metadata": {
    "ezpublish": {
     "type": "show"
    }
   },
   "source": [
    "### 1-Load from Internet"
   ]
  },
  {
   "cell_type": "code",
   "execution_count": 8,
   "metadata": {
    "collapsed": false,
    "ezpublish": {
     "type": "show"
    }
   },
   "outputs": [],
   "source": [
    "# ext_name = 'chrome_clipboard'\n",
    "# ext_url = 'https://raw.githubusercontent.com/ipython-contrib/IPython-notebook-extensions/master/nbextensions/usability/chrome-clipboard/main.js'\n",
    "\n",
    "# ext_code = rq.get(ext_url).text\n",
    "\n",
    "# if not os.path.exists('nbextensions'):\n",
    "#     os.makedirs('nbextensions')\n",
    "\n",
    "# ext_path = os.path.join('nbextensions', ext_name+'.js')\n",
    "# with open(ext_path, 'w') as f:\n",
    "#     f.write(ext_code)\n"
   ]
  },
  {
   "cell_type": "markdown",
   "metadata": {
    "ezpublish": {
     "type": "show"
    }
   },
   "source": [
    "### 1bis-Load from disk"
   ]
  },
  {
   "cell_type": "code",
   "execution_count": 9,
   "metadata": {
    "collapsed": false
   },
   "outputs": [
    {
     "name": "stdout",
     "output_type": "stream",
     "text": [
      "chrome_clipboard\n",
      "chrome_clipboard.js\n",
      "nbextensions/chrome_clipboard.js\n",
      "nbextensions/chrome_clipboard.js\n"
     ]
    }
   ],
   "source": [
    "# ext_name = 'qtconsole'\n",
    "# ext_name = 'comment-uncomment'\n",
    "# ext_name = 'autosave'\n",
    "# ext_name = 'codefolding/main'\n",
    "# ext_name = 'default_style/main'\n",
    "# ext_name = 'ezpublish'\n",
    "ext_name = 'chrome_clipboard'\n",
    "\n",
    "ext_file = ext_name+'.js'\n",
    "ext_file_path = os.path.relpath('nbextensions/'+ext_file)\n",
    "if len(os.path.normpath(ext_file_path).split(os.sep))>2:\n",
    "    ext_dir = os.path.dirname(ext_file_path)\n",
    "else:\n",
    "    ext_dir = ext_file_path\n",
    "    \n",
    "print ext_name\n",
    "print ext_file\n",
    "print ext_file_path\n",
    "print ext_dir"
   ]
  },
  {
   "cell_type": "code",
   "execution_count": 10,
   "metadata": {
    "collapsed": false,
    "ezpublish": {
     "type": "show"
    }
   },
   "outputs": [
    {
     "name": "stdout",
     "output_type": "stream",
     "text": [
      "// add system clipboard functionality with chrome\n",
      "// works with images and notebook cells (MIME-type 'notebook-cell/json')\n",
      "\n",
      "define([\n",
      "    'base/js/namespace',\n",
      "    'jquery',\n",
      "    'base/js/events'\n",
      "], function(IPython, $, events) {\n",
      "    \"use strict\";\n",
      "    if (window.chrome === undefined) return;\n",
      "\n",
      "    /* ht\n"
     ]
    }
   ],
   "source": [
    "with open(ext_file_path, 'r') as f:\n",
    "    ext_code = f.read()\n",
    "print ext_code[:300]"
   ]
  },
  {
   "cell_type": "markdown",
   "metadata": {
    "ezpublish": {
     "type": "show"
    }
   },
   "source": [
    "### 2-Copy to data dir"
   ]
  },
  {
   "cell_type": "code",
   "execution_count": 11,
   "metadata": {
    "collapsed": false,
    "ezpublish": {
     "type": "show"
    }
   },
   "outputs": [
    {
     "name": "stdout",
     "output_type": "stream",
     "text": [
      "copying nbextensions/chrome_clipboard.js -> /Users/Olivier/Library/Jupyter/nbextensions/chrome_clipboard.js\n"
     ]
    }
   ],
   "source": [
    "nb.nbextensions.install_nbextension(ext_dir, user=True)"
   ]
  },
  {
   "cell_type": "code",
   "execution_count": 12,
   "metadata": {
    "collapsed": false,
    "ezpublish": {
     "type": "show"
    }
   },
   "outputs": [
    {
     "data": {
      "text/plain": [
       "True"
      ]
     },
     "execution_count": 12,
     "metadata": {},
     "output_type": "execute_result"
    }
   ],
   "source": [
    "nb.nbextensions.check_nbextension(ext_file, user=True)"
   ]
  },
  {
   "cell_type": "markdown",
   "metadata": {
    "ezpublish": {
     "type": "show"
    }
   },
   "source": [
    "### 3-Test"
   ]
  },
  {
   "cell_type": "code",
   "execution_count": 13,
   "metadata": {
    "collapsed": false,
    "ezpublish": {
     "type": "show"
    }
   },
   "outputs": [],
   "source": [
    "js = \"\"\"\n",
    "console.log('testing {}');\n",
    "var utils = require('base/js/utils');\n",
    "utils.load_extensions('{}');\n",
    "\"\"\".format(ext_name, ext_name)\n",
    "\n",
    "# Javascript(js)\n",
    "\n",
    "# clear cell output and reload page to remove extension"
   ]
  },
  {
   "cell_type": "markdown",
   "metadata": {
    "ezpublish": {
     "type": "show"
    }
   },
   "source": [
    "### 5-Install by default"
   ]
  },
  {
   "cell_type": "code",
   "execution_count": 14,
   "metadata": {
    "collapsed": false,
    "ezpublish": {
     "type": "show"
    }
   },
   "outputs": [],
   "source": [
    "# Install\n",
    "E = nb.nbextensions.EnableNBExtensionApp()\n",
    "E.enable_nbextension(ext_name)\n",
    "\n",
    "# Uninstall\n",
    "D = nb.nbextensions.DisableNBExtensionApp()\n",
    "# D.disable_nbextension(ext_dir_path)\n"
   ]
  },
  {
   "cell_type": "markdown",
   "metadata": {
    "ezpublish": {
     "type": "show"
    }
   },
   "source": [
    "Alternatively another syntax"
   ]
  },
  {
   "cell_type": "code",
   "execution_count": 15,
   "metadata": {
    "collapsed": true,
    "ezpublish": {
     "type": "show"
    }
   },
   "outputs": [],
   "source": [
    "cm = nb.services.config.ConfigManager()\n",
    "fn = 'notebook'\n",
    "\n",
    "# Install\n",
    "# ext_config = cm.update(fn, {'load_extensions': {ext_name: True}})\n",
    "\n",
    "# Uninstall\n",
    "# ext_config = cm.update('notebook', {'load_extensions': {ext_name: None}})\n"
   ]
  },
  {
   "cell_type": "markdown",
   "metadata": {
    "ezpublish": {
     "type": "show"
    }
   },
   "source": [
    "Alternatively from the terminal"
   ]
  },
  {
   "cell_type": "code",
   "execution_count": 16,
   "metadata": {
    "collapsed": true,
    "ezpublish": {
     "type": "show"
    }
   },
   "outputs": [],
   "source": [
    "%%bash\n",
    "# jupyter nbextension enable <ext_name>\n",
    "# jupyter nbextension disable <ext_name>"
   ]
  },
  {
   "cell_type": "markdown",
   "metadata": {
    "ezpublish": {
     "type": "show"
    }
   },
   "source": [
    "Alternatively from the dev console"
   ]
  },
  {
   "cell_type": "code",
   "execution_count": 17,
   "metadata": {
    "collapsed": false,
    "ezpublish": {
     "type": "show"
    }
   },
   "outputs": [
    {
     "data": {
      "application/javascript": [
       "// var utils = require('base/js/utils');\n",
       "// utils.load_extensions('<ext_name>');"
      ],
      "text/plain": [
       "<IPython.core.display.Javascript object>"
      ]
     },
     "metadata": {},
     "output_type": "display_data"
    }
   ],
   "source": [
    "%%javascript\n",
    "// var utils = require('base/js/utils');\n",
    "// utils.load_extensions('<ext_name>');"
   ]
  },
  {
   "cell_type": "markdown",
   "metadata": {
    "ezpublish": {
     "type": "show"
    }
   },
   "source": [
    "### 6-Check config"
   ]
  },
  {
   "cell_type": "code",
   "execution_count": 18,
   "metadata": {
    "collapsed": false,
    "ezpublish": {
     "type": "show"
    },
    "scrolled": true
   },
   "outputs": [
    {
     "name": "stdout",
     "output_type": "stream",
     "text": [
      "config dir: /Users/Olivier/.jupyter/nbconfig\n",
      "filename : notebook\n",
      "contents : \n",
      "{\n",
      "    \"load_extensions\": {\n",
      "        \"autosave\": true, \n",
      "        \"chrome_clipboard\": true, \n",
      "        \"codefolding/main\": true, \n",
      "        \"comment-uncomment\": true, \n",
      "        \"default_style/main\": true, \n",
      "        \"ezpublish\": true, \n",
      "        \"qtconsole\": true\n",
      "    }\n",
      "}\n"
     ]
    }
   ],
   "source": [
    "cm = nb.services.config.ConfigManager()\n",
    "fn = 'notebook'\n",
    "ext_config = cm.update('notebook', {})\n",
    "\n",
    "print 'config dir: {}'.format(cm.config_dir)\n",
    "print 'filename : {}'.format(fn)\n",
    "print 'contents : '\n",
    "print json.dumps(ext_config, indent=4, sort_keys=True)"
   ]
  },
  {
   "cell_type": "markdown",
   "metadata": {
    "ezpublish": {
     "type": "show"
    }
   },
   "source": [
    "### All nbextensions on disk"
   ]
  },
  {
   "cell_type": "code",
   "execution_count": 19,
   "metadata": {
    "collapsed": false,
    "ezpublish": {
     "type": "show"
    },
    "scrolled": false
   },
   "outputs": [
    {
     "name": "stdout",
     "output_type": "stream",
     "text": [
      "\n",
      "/Users/Olivier/Library/Jupyter/nbextensions\n",
      "/Users/Olivier/Library/Jupyter/nbextensions/.DS_Store\n",
      "/Users/Olivier/Library/Jupyter/nbextensions/autosave.js\n",
      "/Users/Olivier/Library/Jupyter/nbextensions/chrome_clipboard.js\n",
      "/Users/Olivier/Library/Jupyter/nbextensions/comment-uncomment.js\n",
      "/Users/Olivier/Library/Jupyter/nbextensions/ezpublish.js\n",
      "/Users/Olivier/Library/Jupyter/nbextensions/qtconsole.js\n",
      "/Users/Olivier/Library/Jupyter/nbextensions/codefolding/codefolding.py\n",
      "/Users/Olivier/Library/Jupyter/nbextensions/codefolding/codefolding.yaml\n",
      "/Users/Olivier/Library/Jupyter/nbextensions/codefolding/firstline-fold.js\n",
      "/Users/Olivier/Library/Jupyter/nbextensions/codefolding/foldgutter.css\n",
      "/Users/Olivier/Library/Jupyter/nbextensions/codefolding/icon.png\n",
      "/Users/Olivier/Library/Jupyter/nbextensions/codefolding/main.js\n",
      "/Users/Olivier/Library/Jupyter/nbextensions/default_style/main.js\n",
      "/Users/Olivier/Library/Jupyter/nbextensions/default_style/my_default.css\n",
      "\n",
      "/Users/Olivier/anaconda/share/jupyter/nbextensions\n",
      "\n",
      "/usr/local/share/jupyter/nbextensions\n",
      "/usr/local/share/jupyter/nbextensions/comment-uncomment.js\n",
      "/usr/local/share/jupyter/nbextensions/gist.js\n",
      "\n",
      "/usr/share/jupyter/nbextensions\n"
     ]
    }
   ],
   "source": [
    "for d in jupyter_path():\n",
    "    dir_nbext = os.path.join(d, 'nbextensions')\n",
    "    print '\\n', dir_nbext\n",
    "\n",
    "    for (root, dirs, files) in os.walk(dir_nbext):\n",
    "        for f in files:\n",
    "            path = os.path.join(root, f)\n",
    "            if os.path.exists(path):\n",
    "                print path"
   ]
  },
  {
   "cell_type": "code",
   "execution_count": null,
   "metadata": {
    "collapsed": true,
    "ezpublish": {
     "type": "show"
    }
   },
   "outputs": [],
   "source": []
  }
 ],
 "metadata": {
  "kernelspec": {
   "display_name": "Python 2",
   "language": "python",
   "name": "python2"
  },
  "language_info": {
   "codemirror_mode": {
    "name": "ipython",
    "version": 2
   },
   "file_extension": ".py",
   "mimetype": "text/x-python",
   "name": "python",
   "nbconvert_exporter": "python",
   "pygments_lexer": "ipython2",
   "version": "2.7.11"
  }
 },
 "nbformat": 4,
 "nbformat_minor": 0
}

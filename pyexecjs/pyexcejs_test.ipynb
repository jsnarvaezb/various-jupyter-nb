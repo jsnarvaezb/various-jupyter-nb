{
 "cells": [
  {
   "cell_type": "code",
   "execution_count": 2,
   "metadata": {
    "collapsed": true
   },
   "outputs": [],
   "source": [
    "import os\n",
    "import execjs as ej"
   ]
  },
  {
   "cell_type": "code",
   "execution_count": 10,
   "metadata": {
    "collapsed": false
   },
   "outputs": [
    {
     "name": "stdout",
     "output_type": "stream",
     "text": [
      "all runtimes\n",
      "\tNode\n",
      "\tSpiderMonkey\n",
      "\tPhantomJS\n",
      "\tJScript\n",
      "\tSlimerJS\n",
      "\tSpidermonkey\n",
      "\tJavaScriptCore\n",
      "\tPyV8\n",
      "available runtimes (default is first)\n",
      "\tNode\n",
      "\tJavaScriptCore\n",
      "env variable EXECJS_RUNTIME can be set\n",
      "\tJavaScriptCore\n"
     ]
    }
   ],
   "source": [
    "print 'all runtimes'\n",
    "for k, v in ej.runtimes().iteritems():\n",
    "    print '\\t', k\n",
    "    \n",
    "print 'available runtimes (default is first)'\n",
    "for k, v in ej.runtimes().items():\n",
    "    if v.is_available():\n",
    "        print '\\t', k\n",
    "\n",
    "print 'env variable EXECJS_RUNTIME can be set'\n",
    "os.environ['EXECJS_RUNTIME'] = 'JavaScriptCore'\n",
    "print '\\t', ej.get().name"
   ]
  },
  {
   "cell_type": "code",
   "execution_count": 12,
   "metadata": {
    "collapsed": false
   },
   "outputs": [
    {
     "data": {
      "text/plain": [
       "u'Node.js (V8)'"
      ]
     },
     "execution_count": 12,
     "metadata": {},
     "output_type": "execute_result"
    }
   ],
   "source": [
    "j = ej.get('Node')\n",
    "j.name"
   ]
  },
  {
   "cell_type": "code",
   "execution_count": 13,
   "metadata": {
    "collapsed": false
   },
   "outputs": [
    {
     "data": {
      "text/plain": [
       "[u'red', u'yellow', u'blue']"
      ]
     },
     "execution_count": 13,
     "metadata": {},
     "output_type": "execute_result"
    }
   ],
   "source": [
    "j.eval(\"'red yellow blue'.split(' ')\")"
   ]
  },
  {
   "cell_type": "code",
   "execution_count": 18,
   "metadata": {
    "collapsed": false
   },
   "outputs": [
    {
     "name": "stdout",
     "output_type": "stream",
     "text": [
      "[2, 3, 5, 7, 11, 13, 17, 19, 23, 29, 31, 37, 41, 43, 47, 53, 59, 61, 67, 71, 73, 79, 83, 89, 97, 101, 103, 107, 109, 113, 127, 131, 137, 139, 149, 151, 157, 163, 167, 173, 179, 181, 191, 193, 197, 199, 211, 223, 227, 229, 233, 239, 241, 251, 257, 263, 269, 271, 277, 281, 283, 293, 307, 311, 313, 317, 331, 337, 347, 349, 353, 359, 367, 373, 379, 383, 389, 397, 401, 409, 419, 421, 431, 433, 439, 443, 449, 457, 461, 463, 467, 479, 487, 491, 499, 503, 509, 521, 523, 541, 547, 557, 563, 569, 571, 577, 587, 593, 599, 601, 607, 613, 617, 619, 631, 641, 643, 647, 653, 659, 661, 673, 677, 683, 691, 701, 709, 719, 727, 733, 739, 743, 751, 757, 761, 769, 773, 787, 797, 809, 811, 821, 823, 827, 829, 839, 853, 857, 859, 863, 877, 881, 883, 887, 907, 911, 919, 929, 937, 941, 947, 953, 967, 971, 977, 983, 991, 997, 1009, 1013, 1019, 1021, 1031, 1033, 1039, 1049, 1051, 1061, 1063, 1069, 1087, 1091, 1093, 1097, 1103, 1109, 1117, 1123, 1129, 1151, 1153, 1163, 1171, 1181, 1187, 1193, 1201, 1213, 1217, 1223, 1229, 1231]\n"
     ]
    }
   ],
   "source": [
    "js_code = \"\"\"\n",
    "function PrimesUpTo(value) {\n",
    "    var primes = [];\n",
    "    for(var i = 2; i < value; i++) {\n",
    "        primes[i] = true;\n",
    "    }\n",
    "    var limit = Math.sqrt(value);\n",
    "    for(var i = 2; i < limit; i++) {\n",
    "        if(primes[i] === true) {\n",
    "            for(var j = i * i; j < value; j += i) {\n",
    "                primes[j] = false;\n",
    "            }\n",
    "        }\n",
    "    }\n",
    "    var selection = [];\n",
    "    for(var i = 2; i < value; i++) {\n",
    "        if(primes[i] === true) {\n",
    "            selection.push(i);\n",
    "        }\n",
    "    }\n",
    "    return selection\n",
    "}\"\"\"\n",
    "\n",
    "func = j.compile(js_code)\n",
    "primes = func.call('PrimesUpTo', 1234)\n",
    "print primes"
   ]
  },
  {
   "cell_type": "code",
   "execution_count": null,
   "metadata": {
    "collapsed": true
   },
   "outputs": [],
   "source": []
  }
 ],
 "metadata": {
  "kernelspec": {
   "display_name": "Python 2",
   "language": "python",
   "name": "python2"
  },
  "language_info": {
   "codemirror_mode": {
    "name": "ipython",
    "version": 2
   },
   "file_extension": ".py",
   "mimetype": "text/x-python",
   "name": "python",
   "nbconvert_exporter": "python",
   "pygments_lexer": "ipython2",
   "version": "2.7.11"
  }
 },
 "nbformat": 4,
 "nbformat_minor": 0
}

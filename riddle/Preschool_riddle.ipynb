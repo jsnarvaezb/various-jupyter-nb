{
 "cells": [
  {
   "cell_type": "code",
   "execution_count": 1,
   "metadata": {
    "collapsed": false
   },
   "outputs": [
    {
     "name": "stderr",
     "output_type": "stream",
     "text": [
      "/Users/Olivier/anaconda/lib/python2.7/site-packages/matplotlib/__init__.py:872: UserWarning: axes.color_cycle is deprecated and replaced with axes.prop_cycle; please use the latter.\n",
      "  warnings.warn(self.msg_depr % (key, alt_key))\n"
     ]
    }
   ],
   "source": [
    "import numpy as np\n",
    "import pandas as pd"
   ]
  },
  {
   "cell_type": "markdown",
   "metadata": {},
   "source": [
    "### Riddle"
   ]
  },
  {
   "cell_type": "code",
   "execution_count": 2,
   "metadata": {
    "collapsed": false
   },
   "outputs": [],
   "source": [
    "data= \"\"\"\n",
    "8809=6\n",
    "7111=0\n",
    "2172=0\n",
    "6666=4\n",
    "1111=0\n",
    "3213=0\n",
    "7662=2\n",
    "9313=1\n",
    "0000=4\n",
    "2222=0\n",
    "3333=0\n",
    "5555=0\n",
    "8193=3\n",
    "8096=5\n",
    "7777=0\n",
    "9999=4\n",
    "7756=1\n",
    "6855=3\n",
    "9881=5\n",
    "5531=0\n",
    "2581=?\n",
    "\"\"\""
   ]
  },
  {
   "cell_type": "markdown",
   "metadata": {},
   "source": [
    "### Indication: This problem can be solved by a pre schooler.\n",
    "\n",
    "A preschooler does not know anything but a sum.  \n",
    "So let us assume that the riddle is about mapping each digit to a unique key value.  \n",
    "\n",
    "We tranform each equation into a frequency equation.  \n",
    "for example the first one is  \n",
    "$$f_0*1+f_8*2+f_9*1 = 6$$\n",
    "\n",
    "Then we search the 'best' solution $(f_i)$ using the least square algo."
   ]
  },
  {
   "cell_type": "code",
   "execution_count": 3,
   "metadata": {
    "collapsed": false
   },
   "outputs": [
    {
     "name": "stdout",
     "output_type": "stream",
     "text": [
      "System to solve:\tA x = b\n",
      "with\n",
      "A =\n",
      "[[1 0 0 0 0 0 0 0 2 1]\n",
      " [0 3 0 0 0 0 0 1 0 0]\n",
      " [0 1 2 0 0 0 0 1 0 0]\n",
      " [0 0 0 0 0 0 4 0 0 0]\n",
      " [0 4 0 0 0 0 0 0 0 0]\n",
      " [0 1 1 2 0 0 0 0 0 0]\n",
      " [0 0 1 0 0 0 2 1 0 0]\n",
      " [0 1 0 2 0 0 0 0 0 1]\n",
      " [4 0 0 0 0 0 0 0 0 0]\n",
      " [0 0 4 0 0 0 0 0 0 0]\n",
      " [0 0 0 4 0 0 0 0 0 0]\n",
      " [0 0 0 0 0 4 0 0 0 0]\n",
      " [0 1 0 1 0 0 0 0 1 1]\n",
      " [1 0 0 0 0 0 1 0 1 1]\n",
      " [0 0 0 0 0 0 0 4 0 0]\n",
      " [0 0 0 0 0 0 0 0 0 4]\n",
      " [0 0 0 0 0 1 1 2 0 0]\n",
      " [0 0 0 0 0 2 1 0 1 0]\n",
      " [0 1 0 0 0 0 0 0 2 1]\n",
      " [0 1 0 1 0 2 0 0 0 0]]\n",
      "b =\n",
      "[6 0 0 4 0 0 2 1 4 0 0 0 3 5 0 4 1 3 5 0]\n",
      "\n",
      "Candidation solution:\n",
      "Digit\t[0 1 2 3 4 5 6 7 8 9]\n",
      "Value\t[1 0 0 0 0 0 1 0 2 1]\n",
      "\n",
      "Is candidate solution valid ? i.e. A s == b ?\n",
      "True\n",
      "\n",
      "Conclusion\n",
      "2581 = 2\n"
     ]
    }
   ],
   "source": [
    "def lhs_to_freq(lhs):\n",
    "    unique, counts = np.unique(lhs, return_counts=True)\n",
    "    freq = np.zeros(10, dtype=np.int)\n",
    "    freq[unique] = counts\n",
    "    return freq\n",
    "\n",
    "def get_freq_from_eq(eq):\n",
    "    lhs = np.array(list(eq.split('=')[0])).astype(np.int)\n",
    "    return lhs_to_freq(lhs)\n",
    "\n",
    "def get_res_from_eq(eq):\n",
    "    rhs = int(eq.split('=')[1])\n",
    "    return rhs\n",
    "\n",
    "A = np.array(map(get_freq_from_eq, data.split()[:-1]))\n",
    "b = np.array(map(get_res_from_eq, data.split()[:-1]))\n",
    "\n",
    "print 'System to solve:\\tA x = b\\nwith'\n",
    "print 'A =\\n{}'.format(A)\n",
    "print 'b =\\n{}'.format(b)\n",
    "\n",
    "# candidate solution\n",
    "s = np.round(np.linalg.lstsq(A, b)[0]).astype(np.int)\n",
    "print '\\nCandidation solution:\\nDigit\\t{}\\nValue\\t{}'.format(np.arange(10), s)\n",
    "print '\\nIs candidate solution valid ? i.e. A s == b ?\\n{}'.format(np.all(np.dot(A, s)==b))\n",
    "\n",
    "# answer\n",
    "print '\\nConclusion\\n2581 = {}'.format(np.sum(s * lhs_to_freq([2, 5, 8, 1])))"
   ]
  },
  {
   "cell_type": "code",
   "execution_count": null,
   "metadata": {
    "collapsed": false
   },
   "outputs": [],
   "source": []
  }
 ],
 "metadata": {
  "kernelspec": {
   "display_name": "Python 2",
   "language": "python",
   "name": "python2"
  },
  "language_info": {
   "codemirror_mode": {
    "name": "ipython",
    "version": 2
   },
   "file_extension": ".py",
   "mimetype": "text/x-python",
   "name": "python",
   "nbconvert_exporter": "python",
   "pygments_lexer": "ipython2",
   "version": "2.7.11"
  }
 },
 "nbformat": 4,
 "nbformat_minor": 0
}

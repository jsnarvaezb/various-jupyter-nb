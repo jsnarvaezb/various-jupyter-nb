{
 "cells": [
  {
   "cell_type": "code",
   "execution_count": 1,
   "metadata": {
    "collapsed": true
   },
   "outputs": [],
   "source": [
    "import numpy as np\n",
    "\n",
    "import json\n",
    "import requests\n"
   ]
  },
  {
   "cell_type": "markdown",
   "metadata": {},
   "source": [
    "## Web Service"
   ]
  },
  {
   "cell_type": "code",
   "execution_count": 2,
   "metadata": {
    "collapsed": false
   },
   "outputs": [],
   "source": [
    "def serialize_payload(payload):\n",
    "    res = {}\n",
    "    for k, v in payload.iteritems():\n",
    "        if isinstance(v, list):\n",
    "            res[k] = json.dumps(v)\n",
    "        else:\n",
    "            res[k] = v\n",
    "    return res\n",
    "\n",
    "def request_ws(url, payload):\n",
    "    payload_ser = serialize_payload(payload)\n",
    "    r = requests.post(url, json=payload_ser)\n",
    "    if r.ok:\n",
    "        output = r.json()['output']\n",
    "        if isinstance(output, unicode):\n",
    "            output = json.loads(output)\n",
    "        return output\n",
    "    else:\n",
    "        return r\n"
   ]
  },
  {
   "cell_type": "markdown",
   "metadata": {},
   "source": [
    "## WebServer\n",
    "### If web server is on same machine\n",
    "+ Run `python WS_Server_v2.py` in new terminal window\n",
    "\n",
    "### If web server is on remote (local) machine\n",
    "+ Ask server IP address & port\n",
    "+ The server displays its IP address and port in its terminal window\n",
    "+ Example: 10.0.1.2 with port = 3000\n",
    "  + Then check server presence opening browser at http://10.0.1.2:3000/ or http://localhost:3000/"
   ]
  },
  {
   "cell_type": "markdown",
   "metadata": {},
   "source": [
    "## Call func_one"
   ]
  },
  {
   "cell_type": "code",
   "execution_count": 3,
   "metadata": {
    "collapsed": false
   },
   "outputs": [
    {
     "name": "stdout",
     "output_type": "stream",
     "text": [
      "[ 140.66574485   86.9945861   -78.32873144  -48.17936514   34.38710247]\n",
      "[ 140.66574485   86.9945861   -78.32873144  -48.17936514   34.38710247]\n",
      "r==R ? True\n"
     ]
    }
   ],
   "source": [
    "m, n = 5, 6\n",
    "np.random.seed(1234567)\n",
    "M = np.random.uniform(low=-10, high=10, size=(m, n))\n",
    "V = np.random.uniform(low=-10, high=10, size=(n))\n",
    "eps = 0.23\n",
    "\n",
    "b = True\n",
    "r = np.dot(M, V)+b*eps\n",
    "print r\n",
    "\n",
    "M = M.tolist()\n",
    "V = V.tolist()\n",
    "\n",
    "payload = {'M': M, 'V': V, 'eps': eps, 'bool': b}\n",
    "url = 'http://localhost:3000/func_one'\n",
    "# url = 'http://testwebservice-1143.appspot.com/func_one'\n",
    "\n",
    "R = request_ws(url, payload)\n",
    "\n",
    "R = np.array(R)\n",
    "print R\n",
    "print 'r==R ? {}'.format(np.allclose(r, R))"
   ]
  },
  {
   "cell_type": "markdown",
   "metadata": {},
   "source": [
    "## Call func_two"
   ]
  },
  {
   "cell_type": "code",
   "execution_count": 4,
   "metadata": {
    "collapsed": false
   },
   "outputs": [
    {
     "name": "stdout",
     "output_type": "stream",
     "text": [
      "13.0\n",
      "13.0\n",
      "r==R ? True\n"
     ]
    }
   ],
   "source": [
    "a = 6.5\n",
    "b = 2\n",
    "r = a*b\n",
    "print r\n",
    "\n",
    "payload = {'a': a, 'b': b}\n",
    "url = 'http://localhost:3000/func_two'\n",
    "# url = 'http://testwebservice-1143.appspot.com/func_two'\n",
    "R = request_ws(url, payload)\n",
    "\n",
    "print R\n",
    "print 'r==R ? {}'.format(r==R)"
   ]
  },
  {
   "cell_type": "markdown",
   "metadata": {},
   "source": [
    "### Local IP address"
   ]
  },
  {
   "cell_type": "code",
   "execution_count": 5,
   "metadata": {
    "collapsed": false
   },
   "outputs": [
    {
     "name": "stdout",
     "output_type": "stream",
     "text": [
      "\tinet 127.0.0.1 netmask 0xff000000 \r\n",
      "\tinet 192.168.1.13 netmask 0xffffff00 broadcast 192.168.1.255\r\n",
      "\tinet 192.168.1.12 netmask 0xffffff00 broadcast 192.168.1.255\r\n"
     ]
    }
   ],
   "source": [
    "! /sbin/ifconfig | grep inet | grep -v inet6"
   ]
  },
  {
   "cell_type": "code",
   "execution_count": null,
   "metadata": {
    "collapsed": true
   },
   "outputs": [],
   "source": []
  }
 ],
 "metadata": {
  "kernelspec": {
   "display_name": "Python 2",
   "language": "python",
   "name": "python2"
  },
  "language_info": {
   "codemirror_mode": {
    "name": "ipython",
    "version": 2
   },
   "file_extension": ".py",
   "mimetype": "text/x-python",
   "name": "python",
   "nbconvert_exporter": "python",
   "pygments_lexer": "ipython2",
   "version": "2.7.11"
  }
 },
 "nbformat": 4,
 "nbformat_minor": 0
}

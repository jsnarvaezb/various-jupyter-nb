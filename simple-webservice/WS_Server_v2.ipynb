{
 "cells": [
  {
   "cell_type": "code",
   "execution_count": 1,
   "metadata": {
    "collapsed": false
   },
   "outputs": [
    {
     "name": "stdout",
     "output_type": "stream",
     "text": [
      "Overwriting WS_Server_v2.py\n"
     ]
    }
   ],
   "source": [
    "%%writefile WS_Server_v2.py\n",
    "\n",
    "import os\n",
    "import numpy as np\n",
    "\n",
    "import base64\n",
    "import json\n",
    "import socket\n",
    "\n",
    "from flask import Flask, jsonify, request, abort\n",
    "\n",
    "app = Flask(__name__)\n",
    "app.config['DEBUG'] = True\n",
    "\n",
    "@app.route('/')\n",
    "def index():\n",
    "    sep = '<br/>'\n",
    "    text = 'Two functions availables from this server :'+sep\n",
    "    text += 'url=/func_one'+sep+'func_one(M, V, eps, bool) = M*V+eps*bool'+sep\n",
    "    text += 'url=/func_two'+sep+'func_two(a, b) = a*b'\n",
    "    return text\n",
    "\n",
    "\n",
    "@app.route('/func_one', methods=['POST'])\n",
    "def func_one():\n",
    "    if not (request.json and 'M' in request.json and 'V' in request.json and \\\n",
    "            'eps' in request.json and 'bool' in request.json):\n",
    "        abort(400)\n",
    "\n",
    "    M = json.loads(request.json.get('M'))\n",
    "    V = json.loads(request.json.get('V'))\n",
    "    eps = request.json.get('eps')\n",
    "    b = request.json.get('bool')\n",
    "\n",
    "    M = np.array(M)\n",
    "    V = np.array(V)\n",
    "\n",
    "    res = np.dot(M, V)+b*eps\n",
    "    res = res.tolist()\n",
    "\n",
    "    res_serialised = json.dumps(res)\n",
    "\n",
    "    return jsonify({'output': res_serialised}), 201\n",
    "\n",
    "\n",
    "@app.route('/func_two', methods=['POST'])\n",
    "def func_two():\n",
    "    if not (request.json and 'a' in request.json and 'b' in request.json):\n",
    "        abort(400)\n",
    "\n",
    "    a = request.json.get('a')\n",
    "    b = request.json.get('b')\n",
    "\n",
    "    res = a*b\n",
    "\n",
    "    return jsonify({'output': res}), 201\n",
    "\n",
    "\n",
    "@app.errorhandler(404)\n",
    "def page_not_found(e):\n",
    "    \"\"\"Return a custom 404 error\"\"\"\n",
    "    return 'Sorry, Nothing here', 404\n",
    "\n",
    "\n",
    "@app.errorhandler(500)\n",
    "def application_error(e):\n",
    "    \"\"\"Return a custom 500 error\"\"\"\n",
    "    return 'Sorry, unexpected error: {}'.format(e), 500\n",
    "\n",
    "\n",
    "if __name__ == '__main__':\n",
    "    port = 3000\n",
    "    print 'The server local ip address is in the list below, with port = {}:'.format(port)\n",
    "    os.system('/sbin/ifconfig | grep inet | grep -v inet6')\n",
    "    app.run(host='0.0.0.0', debug=True, port=port)\n"
   ]
  },
  {
   "cell_type": "code",
   "execution_count": 2,
   "metadata": {
    "collapsed": false
   },
   "outputs": [
    {
     "name": "stdout",
     "output_type": "stream",
     "text": [
      "The server local ip address is in the list below, with port = 3000:\n",
      "\tinet 127.0.0.1 netmask 0xff000000 \n",
      "\tinet 192.168.1.13 netmask 0xffffff00 broadcast 192.168.1.255\n",
      "\tinet 192.168.1.12 netmask 0xffffff00 broadcast 192.168.1.255\n",
      " * Running on http://0.0.0.0:3000/ (Press CTRL+C to quit)\n",
      " * Restarting with stat\n",
      "The server local ip address is in the list below, with port = 3000:\n",
      "\tinet 127.0.0.1 netmask 0xff000000 \n",
      "\tinet 192.168.1.13 netmask 0xffffff00 broadcast 192.168.1.255\n",
      "\tinet 192.168.1.12 netmask 0xffffff00 broadcast 192.168.1.255\n",
      "^C\n"
     ]
    }
   ],
   "source": [
    "# Interrupt kernel to stop server\n",
    "! python WS_Server_v2.py"
   ]
  },
  {
   "cell_type": "code",
   "execution_count": null,
   "metadata": {
    "collapsed": true
   },
   "outputs": [],
   "source": []
  }
 ],
 "metadata": {
  "kernelspec": {
   "display_name": "Python 2",
   "language": "python",
   "name": "python2"
  },
  "language_info": {
   "codemirror_mode": {
    "name": "ipython",
    "version": 2
   },
   "file_extension": ".py",
   "mimetype": "text/x-python",
   "name": "python",
   "nbconvert_exporter": "python",
   "pygments_lexer": "ipython2",
   "version": "2.7.11"
  }
 },
 "nbformat": 4,
 "nbformat_minor": 0
}
